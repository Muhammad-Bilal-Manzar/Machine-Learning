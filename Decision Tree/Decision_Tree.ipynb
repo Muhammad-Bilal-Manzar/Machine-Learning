{
  "nbformat": 4,
  "nbformat_minor": 0,
  "metadata": {
    "colab": {
      "provenance": []
    },
    "kernelspec": {
      "name": "python3",
      "display_name": "Python 3"
    },
    "language_info": {
      "name": "python"
    }
  },
  "cells": [
    {
      "cell_type": "code",
      "execution_count": 1,
      "metadata": {
        "id": "U1QWQwsC30SN"
      },
      "outputs": [],
      "source": [
        "import pandas as pd\n",
        "import numpy as np\n",
        "import itertools"
      ]
    },
    {
      "cell_type": "code",
      "source": [
        "dataset = pd.read_csv('/content/advertising.csv')"
      ],
      "metadata": {
        "id": "ZAh7Yx8j5Ri-"
      },
      "execution_count": 2,
      "outputs": []
    },
    {
      "cell_type": "code",
      "source": [
        "def gini_index(y):\n",
        "    m = len(y)\n",
        "    if m <= 1:\n",
        "        return 0\n",
        "\n",
        "    counts = y.value_counts()\n",
        "    gini = 1 - sum((count / m) ** 2 for count in counts)\n",
        "    return gini"
      ],
      "metadata": {
        "id": "UNkRDkEL5VMC"
      },
      "execution_count": 3,
      "outputs": []
    },
    {
      "cell_type": "code",
      "source": [
        "def entropy(y):\n",
        "    a = y.value_counts() / y.shape[0]\n",
        "    return np.sum(-a * np.log2(a + 1e-9))"
      ],
      "metadata": {
        "id": "iU9xUdk95cST"
      },
      "execution_count": 4,
      "outputs": []
    },
    {
      "cell_type": "code",
      "source": [
        "def gini_information_gain(y, mask):\n",
        "    total_size = len(y)\n",
        "    left_size = sum(mask)\n",
        "    right_size = total_size - left_size\n",
        "\n",
        "    if left_size == 0 or right_size == 0:\n",
        "        return 0\n",
        "\n",
        "    left_gini = gini_index(y[mask])\n",
        "    right_gini = gini_index(y[~mask])\n",
        "\n",
        "    gain = gini_index(y) - (left_size / total_size * left_gini + right_size / total_size * right_gini)\n",
        "    return gain"
      ],
      "metadata": {
        "id": "nSUcFMrO5fWh"
      },
      "execution_count": 5,
      "outputs": []
    },
    {
      "cell_type": "code",
      "source": [
        "def entropy_information_gain(y, mask):\n",
        "    total_size = len(y)\n",
        "    left_size = sum(mask)\n",
        "    right_size = total_size - left_size\n",
        "\n",
        "    if left_size == 0 or right_size == 0:\n",
        "        return 0\n",
        "\n",
        "    left_entropy = entropy(y[mask])\n",
        "    right_entropy = entropy(y[~mask])\n",
        "\n",
        "    gain = entropy(y) - (left_size / total_size * left_entropy + right_size / total_size * right_entropy)\n",
        "    return gain"
      ],
      "metadata": {
        "id": "E1ZtZhhc5nmS"
      },
      "execution_count": 6,
      "outputs": []
    },
    {
      "cell_type": "code",
      "source": [
        "def best_split(dataset, y, func=entropy):\n",
        "    best_gain = -float('inf')\n",
        "    best_split_value = None\n",
        "    best_split_variable = None\n",
        "    best_mask = None\n",
        "\n",
        "    for column in dataset.columns:\n",
        "        values = dataset[column].unique()\n",
        "        for value in values:\n",
        "            if dataset[column].dtype != 'O':\n",
        "                mask = dataset[column] < value\n",
        "            else:\n",
        "                mask = dataset[column].isin([value])\n",
        "\n",
        "            if func == entropy:\n",
        "                gain = entropy_information_gain(y, mask)\n",
        "            else:\n",
        "                gain = gini_information_gain(y, mask)\n",
        "\n",
        "            if gain > best_gain:\n",
        "                best_gain = gain\n",
        "                best_split_value = value\n",
        "                best_split_variable = column\n",
        "                best_mask = mask\n",
        "\n",
        "    return best_split_variable, best_split_value, best_mask, best_gain"
      ],
      "metadata": {
        "id": "80jMbcsk5tw4"
      },
      "execution_count": 7,
      "outputs": []
    },
    {
      "cell_type": "code",
      "source": [
        "def train_tree(dataset, y, max_depth=None, min_samples_split=2, min_information_gain=1e-5, depth=0, func=entropy):\n",
        "    if len(y.unique()) == 1:\n",
        "        return y.iloc[0]\n",
        "\n",
        "    if depth == max_depth or len(dataset) < min_samples_split:\n",
        "        return y.mode()[0]\n",
        "\n",
        "    best_variable, best_value, best_mask, best_gain = best_split(dataset, y, func)\n",
        "\n",
        "    if best_gain < min_information_gain:\n",
        "        return y.mode()[0]\n",
        "\n",
        "    left_dataset = dataset[best_mask]\n",
        "    right_dataset = dataset[~best_mask]\n",
        "    left_y = y[best_mask]\n",
        "    right_y = y[~best_mask]\n",
        "\n",
        "    left_tree = train_tree(left_dataset, left_y, max_depth, min_samples_split, min_information_gain, depth+1, func)\n",
        "    right_tree = train_tree(right_dataset, right_y, max_depth, min_samples_split, min_information_gain, depth+1, func)\n",
        "\n",
        "    tree = {f'{best_variable} <= {best_value}': [left_tree, right_tree]}\n",
        "    return tree"
      ],
      "metadata": {
        "id": "CunsV8V752jj"
      },
      "execution_count": 8,
      "outputs": []
    },
    {
      "cell_type": "code",
      "source": [
        "def classify(observation, tree):\n",
        "    question = list(tree.keys())[0]\n",
        "    feature, value = question.split(' <= ')\n",
        "    feature_value = observation[feature]\n",
        "\n",
        "    if isinstance(tree[question][0], dict):\n",
        "        if feature_value <= float(value):\n",
        "            return classify(observation, tree[question][0])\n",
        "        else:\n",
        "            return classify(observation, tree[question][1])\n",
        "    else:\n",
        "        return tree[question][0]"
      ],
      "metadata": {
        "id": "wdw16jQ56Gvl"
      },
      "execution_count": 9,
      "outputs": []
    },
    {
      "cell_type": "code",
      "source": [
        "def print_tree(tree, level=0):\n",
        "    if isinstance(tree, dict):\n",
        "        for question, subtrees in tree.items():\n",
        "            print(f\"{'|  ' * level}Question: {question}\")\n",
        "            for subtree in subtrees:\n",
        "                print_tree(subtree, level + 1)\n",
        "    else:\n",
        "        print(f\"{'|  ' * level}Predict: {tree}\")"
      ],
      "metadata": {
        "id": "Z2qO8hhI6OQZ"
      },
      "execution_count": 10,
      "outputs": []
    },
    {
      "cell_type": "code",
      "source": [
        "tree_gini = train_tree(dataset.drop('Clicked on Ad', axis=1), dataset['Clicked on Ad'], max_depth=5, func=gini_index)\n",
        "print(\"Decision Tree (Gini Index):\")\n",
        "print_tree(tree_gini)"
      ],
      "metadata": {
        "colab": {
          "base_uri": "https://localhost:8080/"
        },
        "id": "7GNohP556RmB",
        "outputId": "0d68d83a-c636-4c09-8347-c90f56482fac"
      },
      "execution_count": 11,
      "outputs": [
        {
          "output_type": "stream",
          "name": "stdout",
          "text": [
            "Decision Tree (Gini Index):\n",
            "Question: Daily Internet Usage <= 177.55\n",
            "|  Question: Daily Time Spent on Site <= 71.4\n",
            "|  |  Question: Area Income <= 76984.21\n",
            "|  |  |  Question: Ad Topic Line <= Polarized analyzing concept\n",
            "|  |  |  |  Predict: 0\n",
            "|  |  |  |  Question: Ad Topic Line <= Up-sized tertiary contingency\n",
            "|  |  |  |  |  Predict: 0\n",
            "|  |  |  |  |  Predict: 1\n",
            "|  |  |  Predict: 0\n",
            "|  |  Question: Daily Internet Usage <= 161.42\n",
            "|  |  |  Question: Daily Time Spent on Site <= 87.35\n",
            "|  |  |  |  Question: Ad Topic Line <= Progressive clear-thinking open architecture\n",
            "|  |  |  |  |  Predict: 0\n",
            "|  |  |  |  |  Predict: 1\n",
            "|  |  |  |  Question: Daily Time Spent on Site <= 88.97\n",
            "|  |  |  |  |  Predict: 0\n",
            "|  |  |  |  |  Predict: 1\n",
            "|  |  |  Question: Age <= 51\n",
            "|  |  |  |  Question: Area Income <= 42760.22\n",
            "|  |  |  |  |  Predict: 1\n",
            "|  |  |  |  |  Predict: 0\n",
            "|  |  |  |  Predict: 1\n",
            "|  Question: Daily Time Spent on Site <= 56.39\n",
            "|  |  Question: Daily Time Spent on Site <= 48.22\n",
            "|  |  |  Predict: 1\n",
            "|  |  |  Question: Daily Time Spent on Site <= 50.52\n",
            "|  |  |  |  Predict: 0\n",
            "|  |  |  |  Question: Age <= 23\n",
            "|  |  |  |  |  Predict: 0\n",
            "|  |  |  |  |  Predict: 1\n",
            "|  |  Question: Area Income <= 33239.2\n",
            "|  |  |  Predict: 1\n",
            "|  |  |  Question: Age <= 53\n",
            "|  |  |  |  Question: Daily Internet Usage <= 269.96\n",
            "|  |  |  |  |  Predict: 0\n",
            "|  |  |  |  |  Predict: 1\n",
            "|  |  |  |  Question: Daily Time Spent on Site <= 81.22\n",
            "|  |  |  |  |  Predict: 1\n",
            "|  |  |  |  |  Predict: 0\n"
          ]
        }
      ]
    },
    {
      "cell_type": "code",
      "source": [
        "tree_entropy = train_tree(dataset.drop('Clicked on Ad', axis=1), dataset['Clicked on Ad'], max_depth=5, func=entropy)\n",
        "print(\"\\nDecision Tree (Entropy):\")\n",
        "print_tree(tree_entropy)"
      ],
      "metadata": {
        "colab": {
          "base_uri": "https://localhost:8080/"
        },
        "id": "yiFysUDp6Uwx",
        "outputId": "752854d4-4a66-4cae-cf3b-67cfe92f8e84"
      },
      "execution_count": 12,
      "outputs": [
        {
          "output_type": "stream",
          "name": "stdout",
          "text": [
            "\n",
            "Decision Tree (Entropy):\n",
            "Question: Daily Internet Usage <= 177.55\n",
            "|  Question: Daily Time Spent on Site <= 71.4\n",
            "|  |  Question: Area Income <= 76984.21\n",
            "|  |  |  Question: Ad Topic Line <= Polarized analyzing concept\n",
            "|  |  |  |  Predict: 0\n",
            "|  |  |  |  Question: Ad Topic Line <= Up-sized tertiary contingency\n",
            "|  |  |  |  |  Predict: 0\n",
            "|  |  |  |  |  Predict: 1\n",
            "|  |  |  Predict: 0\n",
            "|  |  Question: Daily Internet Usage <= 146.19\n",
            "|  |  |  Predict: 1\n",
            "|  |  |  Question: Area Income <= 48761.14\n",
            "|  |  |  |  Question: Daily Time Spent on Site <= 89.37\n",
            "|  |  |  |  |  Predict: 1\n",
            "|  |  |  |  |  Predict: 0\n",
            "|  |  |  |  Question: Age <= 45\n",
            "|  |  |  |  |  Predict: 0\n",
            "|  |  |  |  |  Predict: 1\n",
            "|  Question: Daily Time Spent on Site <= 59.52\n",
            "|  |  Question: Daily Time Spent on Site <= 48.22\n",
            "|  |  |  Predict: 1\n",
            "|  |  |  Question: Area Income <= 38817.4\n",
            "|  |  |  |  Predict: 1\n",
            "|  |  |  |  Question: Age <= 41\n",
            "|  |  |  |  |  Predict: 0\n",
            "|  |  |  |  |  Predict: 1\n",
            "|  |  Question: Area Income <= 33239.2\n",
            "|  |  |  Predict: 1\n",
            "|  |  |  Question: Age <= 50\n",
            "|  |  |  |  Question: Ad Topic Line <= Synergized cohesive array\n",
            "|  |  |  |  |  Predict: 1\n",
            "|  |  |  |  |  Predict: 0\n",
            "|  |  |  |  Question: Daily Time Spent on Site <= 68.95\n",
            "|  |  |  |  |  Predict: 1\n",
            "|  |  |  |  |  Predict: 0\n"
          ]
        }
      ]
    },
    {
      "cell_type": "code",
      "source": [
        "observation = dataset.iloc[0]\n",
        "prediction_gini = classify(observation, tree_gini)\n",
        "prediction_entropy = classify(observation, tree_entropy)"
      ],
      "metadata": {
        "id": "VS-LkiP86h68"
      },
      "execution_count": 13,
      "outputs": []
    },
    {
      "cell_type": "code",
      "source": [
        "print(f\"\\nPrediction using Gini Index: {prediction_gini}\")\n",
        "print(f\"Prediction using Entropy: {prediction_entropy}\")"
      ],
      "metadata": {
        "colab": {
          "base_uri": "https://localhost:8080/"
        },
        "id": "vVatq5ox61o9",
        "outputId": "9ad3792f-4000-477d-9fa1-3709e3f91662"
      },
      "execution_count": 14,
      "outputs": [
        {
          "output_type": "stream",
          "name": "stdout",
          "text": [
            "\n",
            "Prediction using Gini Index: 1\n",
            "Prediction using Entropy: 1\n"
          ]
        }
      ]
    },
    {
      "cell_type": "code",
      "source": [],
      "metadata": {
        "id": "EqVPGBQH62d1"
      },
      "execution_count": null,
      "outputs": []
    }
  ]
}